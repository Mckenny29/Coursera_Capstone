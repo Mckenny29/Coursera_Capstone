{
    "nbformat_minor": 1, 
    "cells": [
        {
            "source": "# Where Should Skentelo Open its London Restaurant?", 
            "cell_type": "markdown", 
            "metadata": {}
        }, 
        {
            "source": "\n## 1. Introduction\n\n\n### 1.1. Background\n\n\nThis IBM Data Science Professional Certificate Capstone Project seeks to use Unsupervised Machine Learning Algorithm to advice Skentelo on the best location for their new restaurant. In this project, I have usedon Foursquare location data to explore neighborhoods in Inner London.\n\n\n### 1.2. Problem\n\n\nI will explore the Boroughs in Inner London and answer the question: \u201cWhere is the appropriate place to open a new restaurant in Inner London?\u201d \n\n\n### 1.3. Interest\n\n\n London is one of the biggest international cities in the world, and one of the most cosmopolitan cities in the world. Opening a restaurant there is a smart idea for anyone looking for a good flow of income. Identifying the popular locations in London will indicate the direction for the location of the restaurant and help Skentelo make an informed business decision.\n", 
            "cell_type": "markdown", 
            "metadata": {
                "collapsed": true
            }
        }, 
        {
            "source": "# 2. Data", 
            "cell_type": "markdown", 
            "metadata": {}
        }, 
        {
            "source": "## 2.1. Data Sources\n\nMy main two data sources are:\n\n1.\tWikipedia[1] provides the list of Districts and Boroughs in Inner London\n2.\tVenues data from Foursquare[2]\n\n\n## 2.2. Data Cleaning\n\nLondon is divided into of Inner London and Outer London. My focus for this project is Inner London. Inner London has a total of 12 Boroughs.\nFirstly, I will be collecting data on the District and Boroughs from Wikipedia and find the coordinates for every Borough. This I have done manually and the data is in the table below.\n\n*table to be worked on later*\n\n*S/N\tDistrict\tBorough\tLat\tLon\n1\tInner\tGreenwich\t52.0367323\t1.168934\n2\tInner\tHackney\t51.5432402\t-0.0493621\n3\tInner\tHammersmith\t51.4920377\t-0.2236401\n4\tInner\tIslington\t51.5384287\t-0.0999051\n5\tInner\tKensington and Chelsea\t51.4875417\t-0.1682205\n6\tInner\tLambeth\t51.5013012\t-0.117287\n7\tInner\tLewisham\t51.4624325\t-0.0101331\n8\tInner\tSouthwark\t51.5029222\t-0.103458\n9\tInner\tTower Hamlets\t51.1288633\t1.2986686\n10\tInner\tWandsworth\t51.4570271\t-0.1932607\n11\tInner\tWestminster\t51.4973206\t-0.137149\n12\tInner\tCamden\t51.5517\t0.1588*\n\n\n## 2.3 Feature Selection\n\nFurther to the data on the Boroughs, I will obtain a data of recommended venues within 1000 meters radius of every Borough and determine the top 10 most common venues by its category as features. I will be employing Foursquare Location data for this purpose.\n", 
            "cell_type": "markdown", 
            "attachments": {}, 
            "metadata": {}
        }, 
        {
            "execution_count": null, 
            "cell_type": "code", 
            "metadata": {}, 
            "outputs": [], 
            "source": ""
        }
    ], 
    "metadata": {
        "kernelspec": {
            "display_name": "Python 3.6", 
            "name": "python3", 
            "language": "python"
        }, 
        "language_info": {
            "mimetype": "text/x-python", 
            "nbconvert_exporter": "python", 
            "version": "3.6.8", 
            "name": "python", 
            "file_extension": ".py", 
            "pygments_lexer": "ipython3", 
            "codemirror_mode": {
                "version": 3, 
                "name": "ipython"
            }
        }
    }, 
    "nbformat": 4
}